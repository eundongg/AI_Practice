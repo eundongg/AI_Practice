{
  "nbformat": 4,
  "nbformat_minor": 0,
  "metadata": {
    "colab": {
      "provenance": [],
      "authorship_tag": "ABX9TyNZwq3zhqZ6frdfJoaHqtms",
      "include_colab_link": true
    },
    "kernelspec": {
      "name": "python3",
      "display_name": "Python 3"
    },
    "language_info": {
      "name": "python"
    }
  },
  "cells": [
    {
      "cell_type": "markdown",
      "metadata": {
        "id": "view-in-github",
        "colab_type": "text"
      },
      "source": [
        "<a href=\"https://colab.research.google.com/github/eundongg/AI_Practice/blob/main/8_queen_homework_2019243113_%EC%8B%AC%EC%9D%80%EC%A0%95.ipynb\" target=\"_parent\"><img src=\"https://colab.research.google.com/assets/colab-badge.svg\" alt=\"Open In Colab\"/></a>"
      ]
    },
    {
      "cell_type": "markdown",
      "source": [
        "- how to?\n",
        "\n",
        "유전 알고리즘(Genetic Algorithm)을 이용하여 8개의 여왕말을 8x8체스판에 서로 위협하지 않도록 배치하는 문제 해결 방식\n",
        "\n",
        "공격 포인트는 상하, 대각선 (한 행에 하나의 queen만 존재할 수 있음)\n",
        "\n",
        "적합도 값으로 서로 공격하지 않는 queen쌍의 개수를 사용(만약 모든 queen들이 서로를 공격하지 않는다면 28)\n",
        "\n",
        "따라서 적합도 함수는 28-'공격하는 위치에 있는 queen의 개수'"
      ],
      "metadata": {
        "id": "ZeausbMaPB3U"
      }
    },
    {
      "cell_type": "code",
      "execution_count": null,
      "metadata": {
        "id": "B5N7Au14ooLW"
      },
      "outputs": [],
      "source": [
        "import random\n",
        "SIZE = 8  # 유전자의 개수\n",
        "POPULATION_SIZE = 4 # 염색체의 개수\n",
        "MUTATION_RATE = 0.07\n",
        "\n",
        "# 염색체를 클래스로 정의한다. \n",
        "class Chromosome:\n",
        "  def __init__(self, g=[]):\n",
        "    self.genes = g.copy() # 유전자는 리스트로 구현된다. \n",
        "    self.fitness = 28;\n",
        "    if self.genes.__len__()==0: # 염색체가 초기 상태이면 초기화한다. \n",
        "      for i in range(SIZE):\n",
        "        # 퀸의 위치를 1~8 사이의 임의의 수로 지정한다. \n",
        "        self.genes.append(random.randint(1, SIZE))\n",
        "\n",
        "\n",
        "  def cal_fitness(self): # 적합도를 계산한다. # 최적의 적합도는 28\n",
        "    self.fitness = 28;\n",
        "    for i in range(SIZE):\n",
        "      for j in range(i+1,SIZE):\n",
        "        # 같은 열에 있는 경우 적합도 -1\n",
        "        if self.genes[i]==self.genes[j]:\n",
        "          self.fitness -= 1\n",
        "        # 대각선에 있는 경우 적합도 -1\n",
        "        elif abs(i-j) == abs(self.genes[i]-self.genes[j]):\n",
        "          self.fitness -= 1\n",
        "    return self.fitness\n",
        "\n",
        "  def __str__(self):\n",
        "    return self.genes.__str__()\n",
        "\n",
        "  def copy(self):\n",
        "    new_chromosome = Chromosome(self.genes)\n",
        "    new_chromosome.fitness =self.fitness\n",
        "    return new_chromosome"
      ]
    },
    {
      "cell_type": "code",
      "source": [
        "# 염색체와 적합도를 출력한다. \n",
        "def print_p(pop):\n",
        "  i = 0\n",
        "  for x in pop:\n",
        "    print(\"chess #\", i, \"=\", x, \"적합도=\", x.cal_fitness())\n",
        "    i += 1\n",
        "  print(\"\")\n",
        "\n",
        "# 선택 연산 - 토너먼트 \n",
        "def select(pop):\n",
        "  # 토너먼트에 참가할 염색체 개수\n",
        "  TOURNAMENT_SIZE = 2\n",
        "  \n",
        "  tournament = random.sample(pop, TOURNAMENT_SIZE)\n",
        "  # 가장 적합도가 높은 염색체 선택\n",
        "  c = max(tournament, key=lambda x: x.cal_fitness())\n",
        "  return c"
      ],
      "metadata": {
        "id": "DJNv0_H6pLlb"
      },
      "execution_count": null,
      "outputs": []
    },
    {
      "cell_type": "code",
      "source": [
        "# 교차 연산\n",
        "def crossover(pop):\n",
        "  father = select(pop)\n",
        "  mother = select(pop)\n",
        "  index = random.randint(1, SIZE - 2)\n",
        "  child1 = father.genes[:index] + mother.genes[index:] \n",
        "  child2 = mother.genes[:index] + father.genes[index:] \n",
        "  return (Chromosome(child1),Chromosome(child2))\n",
        "\n",
        "# 돌연변이 연산\n",
        "def mutate(c):\n",
        "  for i in range(SIZE):\n",
        "    if random.random() < MUTATION_RATE:\n",
        "      c.genes[i] = random.randint(1, SIZE)"
      ],
      "metadata": {
        "id": "eWnKBqaSpOIx"
      },
      "execution_count": null,
      "outputs": []
    },
    {
      "cell_type": "code",
      "source": [
        "# 메인 프로그램\n",
        "population = []\n",
        "i=0\n",
        "\n",
        "# 초기 염색체를 생성하여 객체 집단에 추가한다. \n",
        "while i<POPULATION_SIZE:\n",
        "  population.append(Chromosome())\n",
        "  i += 1\n",
        "  \n",
        "count=0\n",
        "population.sort(key=lambda x: x.cal_fitness(), reverse=True)\n",
        "print(\"세대 번호=\", count)\n",
        "print_p(population)\n",
        "count=1"
      ],
      "metadata": {
        "colab": {
          "base_uri": "https://localhost:8080/"
        },
        "id": "2xOSQGpnpQmG",
        "outputId": "d5396cb7-99a5-4744-aba0-2ab5ccaac162"
      },
      "execution_count": null,
      "outputs": [
        {
          "output_type": "stream",
          "name": "stdout",
          "text": [
            "세대 번호= 0\n",
            "chess # 0 = [6, 8, 7, 3, 4, 2, 7, 2] 적합도= 21\n",
            "chess # 1 = [8, 6, 8, 4, 7, 8, 4, 5] 적합도= 20\n",
            "chess # 2 = [2, 3, 3, 4, 5, 3, 4, 7] 적합도= 19\n",
            "chess # 3 = [4, 2, 7, 4, 4, 2, 2, 6] 적합도= 19\n",
            "\n"
          ]
        }
      ]
    },
    {
      "cell_type": "code",
      "source": [
        "while population[0].cal_fitness() < 28:\n",
        "  new_pop = []\n",
        "  # 선택과 교차 연산\n",
        "  for _ in range(POPULATION_SIZE//2):\n",
        "    c1, c2 = crossover(population);\n",
        "    new_pop.append(c1.copy())\n",
        "    new_pop.append(c2.copy())\n",
        "  # 자식 세대가 부모 세대를 대체한다. \n",
        "  # 깊은 복사를 수행한다. \n",
        "  population = new_pop[:];\n",
        "\n",
        "  # 돌연변이 연산\n",
        "  for c in population: mutate(c)\n",
        "\n",
        "  # 출력을 위한 정렬\n",
        "  population.sort(key=lambda x: x.cal_fitness(), reverse=True)\n",
        "  print(\"세대 번호=\", count)\n",
        "  print_p(population)\n",
        "  count += 1\n",
        "  if count > 1000 : break;\n"
      ],
      "metadata": {
        "colab": {
          "base_uri": "https://localhost:8080/"
        },
        "id": "UMFwz7GYpT15",
        "outputId": "bb7072d9-334e-4bd8-f7d8-9abfd7cbc20e"
      },
      "execution_count": null,
      "outputs": [
        {
          "output_type": "stream",
          "name": "stdout",
          "text": [
            "세대 번호= 1\n",
            "chess # 0 = [3, 6, 8, 5, 5, 3, 4, 7] 적합도= 23\n",
            "chess # 1 = [8, 6, 7, 3, 4, 7, 7, 2] 적합도= 21\n",
            "chess # 2 = [6, 8, 8, 4, 7, 8, 4, 5] 적합도= 20\n",
            "chess # 3 = [2, 3, 3, 4, 7, 3, 4, 5] 적합도= 19\n",
            "\n",
            "세대 번호= 2\n",
            "chess # 0 = [3, 6, 8, 5, 4, 7, 7, 2] 적합도= 25\n",
            "chess # 1 = [3, 6, 8, 3, 4, 7, 7, 2] 적합도= 25\n",
            "chess # 2 = [8, 6, 7, 3, 1, 8, 4, 7] 적합도= 24\n",
            "chess # 3 = [8, 6, 7, 5, 5, 3, 4, 7] 적합도= 20\n",
            "\n",
            "세대 번호= 3\n",
            "chess # 0 = [3, 6, 8, 3, 1, 4, 4, 7] 적합도= 24\n",
            "chess # 1 = [3, 4, 8, 5, 4, 7, 7, 2] 적합도= 23\n",
            "chess # 2 = [3, 6, 8, 4, 4, 8, 7, 2] 적합도= 22\n",
            "chess # 3 = [8, 4, 7, 3, 4, 7, 7, 2] 적합도= 21\n",
            "\n",
            "세대 번호= 4\n",
            "chess # 0 = [3, 6, 8, 5, 4, 7, 7, 2] 적합도= 25\n",
            "chess # 1 = [3, 6, 8, 3, 1, 4, 4, 7] 적합도= 24\n",
            "chess # 2 = [6, 6, 8, 4, 4, 5, 7, 2] 적합도= 21\n",
            "chess # 3 = [3, 4, 8, 3, 1, 4, 4, 7] 적합도= 20\n",
            "\n",
            "세대 번호= 5\n",
            "chess # 0 = [3, 6, 8, 3, 1, 7, 5, 2] 적합도= 27\n",
            "chess # 1 = [3, 6, 8, 5, 4, 7, 7, 2] 적합도= 25\n",
            "chess # 2 = [3, 6, 8, 5, 4, 7, 7, 2] 적합도= 25\n",
            "chess # 3 = [3, 6, 8, 5, 4, 4, 4, 7] 적합도= 22\n",
            "\n",
            "세대 번호= 6\n",
            "chess # 0 = [3, 6, 8, 3, 1, 7, 5, 2] 적합도= 27\n",
            "chess # 1 = [3, 6, 8, 5, 4, 7, 7, 2] 적합도= 25\n",
            "chess # 2 = [3, 6, 8, 6, 4, 7, 7, 2] 적합도= 24\n",
            "chess # 3 = [3, 6, 4, 5, 4, 7, 7, 2] 적합도= 22\n",
            "\n",
            "세대 번호= 7\n",
            "chess # 0 = [3, 6, 8, 3, 1, 7, 5, 2] 적합도= 27\n",
            "chess # 1 = [3, 6, 8, 5, 4, 7, 7, 2] 적합도= 25\n",
            "chess # 2 = [3, 6, 2, 2, 4, 8, 7, 2] 적합도= 22\n",
            "chess # 3 = [3, 6, 8, 6, 1, 8, 7, 2] 적합도= 21\n",
            "\n",
            "세대 번호= 8\n",
            "chess # 0 = [3, 6, 8, 3, 1, 7, 5, 2] 적합도= 27\n",
            "chess # 1 = [3, 6, 8, 3, 7, 7, 3, 2] 적합도= 22\n",
            "chess # 2 = [7, 6, 2, 3, 1, 7, 7, 2] 적합도= 22\n",
            "chess # 3 = [3, 6, 2, 3, 4, 8, 5, 2] 적합도= 22\n",
            "\n",
            "세대 번호= 9\n",
            "chess # 0 = [3, 6, 8, 3, 1, 7, 5, 2] 적합도= 27\n",
            "chess # 1 = [3, 6, 8, 3, 1, 7, 5, 7] 적합도= 25\n",
            "chess # 2 = [3, 6, 2, 3, 4, 8, 5, 2] 적합도= 22\n",
            "chess # 3 = [3, 6, 2, 3, 4, 8, 5, 2] 적합도= 22\n",
            "\n",
            "세대 번호= 10\n",
            "chess # 0 = [3, 6, 8, 3, 1, 7, 5, 2] 적합도= 27\n",
            "chess # 1 = [3, 6, 8, 3, 1, 7, 5, 2] 적합도= 27\n",
            "chess # 2 = [3, 6, 8, 3, 1, 7, 5, 7] 적합도= 25\n",
            "chess # 3 = [3, 6, 2, 3, 4, 8, 5, 2] 적합도= 22\n",
            "\n",
            "세대 번호= 11\n",
            "chess # 0 = [3, 6, 8, 3, 1, 7, 5, 2] 적합도= 27\n",
            "chess # 1 = [1, 6, 8, 3, 1, 7, 5, 2] 적합도= 27\n",
            "chess # 2 = [3, 6, 8, 5, 1, 7, 5, 2] 적합도= 26\n",
            "chess # 3 = [7, 6, 8, 3, 1, 7, 2, 2] 적합도= 25\n",
            "\n",
            "세대 번호= 12\n",
            "chess # 0 = [3, 6, 8, 3, 1, 7, 5, 2] 적합도= 27\n",
            "chess # 1 = [3, 6, 8, 3, 1, 7, 5, 2] 적합도= 27\n",
            "chess # 2 = [3, 8, 8, 3, 1, 7, 5, 2] 적합도= 25\n",
            "chess # 3 = [3, 6, 8, 3, 1, 7, 3, 2] 적합도= 23\n",
            "\n",
            "세대 번호= 13\n",
            "chess # 0 = [3, 6, 8, 3, 1, 7, 5, 2] 적합도= 27\n",
            "chess # 1 = [3, 6, 8, 3, 1, 5, 5, 2] 적합도= 24\n",
            "chess # 2 = [3, 6, 8, 3, 1, 7, 3, 2] 적합도= 23\n",
            "chess # 3 = [3, 6, 8, 2, 1, 2, 5, 2] 적합도= 21\n",
            "\n",
            "세대 번호= 14\n",
            "chess # 0 = [3, 6, 8, 3, 1, 7, 5, 2] 적합도= 27\n",
            "chess # 1 = [3, 4, 8, 3, 1, 7, 5, 2] 적합도= 25\n",
            "chess # 2 = [3, 6, 8, 3, 1, 5, 5, 2] 적합도= 24\n",
            "chess # 3 = [3, 6, 3, 3, 1, 5, 3, 2] 적합도= 18\n",
            "\n",
            "세대 번호= 15\n",
            "chess # 0 = [3, 6, 8, 3, 1, 7, 5, 2] 적합도= 27\n",
            "chess # 1 = [3, 6, 8, 3, 1, 7, 5, 2] 적합도= 27\n",
            "chess # 2 = [3, 6, 8, 3, 1, 5, 5, 2] 적합도= 24\n",
            "chess # 3 = [3, 4, 8, 2, 1, 7, 5, 2] 적합도= 22\n",
            "\n",
            "세대 번호= 16\n",
            "chess # 0 = [3, 6, 8, 3, 1, 7, 5, 2] 적합도= 27\n",
            "chess # 1 = [3, 6, 8, 3, 1, 7, 5, 2] 적합도= 27\n",
            "chess # 2 = [3, 6, 8, 3, 1, 7, 5, 2] 적합도= 27\n",
            "chess # 3 = [3, 6, 4, 3, 1, 4, 5, 2] 적합도= 23\n",
            "\n",
            "세대 번호= 17\n",
            "chess # 0 = [3, 6, 8, 3, 1, 7, 5, 2] 적합도= 27\n",
            "chess # 1 = [3, 6, 8, 3, 1, 7, 5, 2] 적합도= 27\n",
            "chess # 2 = [3, 6, 8, 3, 1, 7, 5, 2] 적합도= 27\n",
            "chess # 3 = [3, 6, 8, 3, 7, 7, 5, 2] 적합도= 24\n",
            "\n",
            "세대 번호= 18\n",
            "chess # 0 = [3, 6, 8, 3, 1, 7, 5, 2] 적합도= 27\n",
            "chess # 1 = [3, 6, 8, 3, 1, 7, 5, 2] 적합도= 27\n",
            "chess # 2 = [3, 6, 8, 3, 1, 7, 5, 2] 적합도= 27\n",
            "chess # 3 = [3, 6, 1, 3, 1, 7, 5, 2] 적합도= 24\n",
            "\n",
            "세대 번호= 19\n",
            "chess # 0 = [3, 6, 8, 3, 1, 7, 5, 2] 적합도= 27\n",
            "chess # 1 = [3, 6, 8, 3, 1, 7, 5, 2] 적합도= 27\n",
            "chess # 2 = [3, 6, 8, 7, 1, 7, 5, 2] 적합도= 26\n",
            "chess # 3 = [3, 6, 3, 3, 1, 7, 5, 2] 적합도= 24\n",
            "\n",
            "세대 번호= 20\n",
            "chess # 0 = [3, 6, 8, 3, 1, 7, 5, 2] 적합도= 27\n",
            "chess # 1 = [3, 6, 8, 3, 1, 7, 5, 2] 적합도= 27\n",
            "chess # 2 = [3, 6, 8, 3, 1, 7, 5, 2] 적합도= 27\n",
            "chess # 3 = [3, 6, 8, 3, 1, 7, 5, 3] 적합도= 24\n",
            "\n",
            "세대 번호= 21\n",
            "chess # 0 = [3, 6, 8, 3, 1, 7, 5, 2] 적합도= 27\n",
            "chess # 1 = [3, 6, 8, 3, 1, 7, 5, 2] 적합도= 27\n",
            "chess # 2 = [3, 6, 8, 3, 1, 7, 5, 2] 적합도= 27\n",
            "chess # 3 = [3, 6, 8, 3, 1, 7, 5, 2] 적합도= 27\n",
            "\n",
            "세대 번호= 22\n",
            "chess # 0 = [3, 6, 8, 3, 1, 7, 5, 2] 적합도= 27\n",
            "chess # 1 = [3, 6, 8, 3, 1, 7, 5, 2] 적합도= 27\n",
            "chess # 2 = [3, 6, 8, 3, 1, 1, 5, 2] 적합도= 25\n",
            "chess # 3 = [3, 6, 2, 3, 1, 7, 5, 2] 적합도= 25\n",
            "\n",
            "세대 번호= 23\n",
            "chess # 0 = [3, 6, 8, 3, 1, 7, 5, 2] 적합도= 27\n",
            "chess # 1 = [3, 6, 8, 3, 1, 7, 5, 2] 적합도= 27\n",
            "chess # 2 = [3, 6, 5, 3, 1, 7, 5, 2] 적합도= 24\n",
            "chess # 3 = [8, 6, 8, 3, 1, 7, 8, 2] 적합도= 24\n",
            "\n",
            "세대 번호= 24\n",
            "chess # 0 = [3, 6, 8, 3, 1, 7, 5, 2] 적합도= 27\n",
            "chess # 1 = [3, 6, 8, 3, 1, 7, 5, 2] 적합도= 27\n",
            "chess # 2 = [3, 6, 8, 5, 1, 7, 5, 2] 적합도= 26\n",
            "chess # 3 = [3, 6, 4, 3, 1, 7, 5, 2] 적합도= 25\n",
            "\n",
            "세대 번호= 25\n",
            "chess # 0 = [3, 6, 8, 3, 1, 7, 5, 2] 적합도= 27\n",
            "chess # 1 = [3, 6, 8, 3, 1, 7, 5, 2] 적합도= 27\n",
            "chess # 2 = [3, 6, 8, 3, 1, 7, 5, 2] 적합도= 27\n",
            "chess # 3 = [3, 6, 8, 5, 1, 7, 5, 2] 적합도= 26\n",
            "\n",
            "세대 번호= 26\n",
            "chess # 0 = [8, 6, 8, 3, 1, 7, 5, 2] 적합도= 27\n",
            "chess # 1 = [3, 6, 8, 3, 1, 7, 5, 2] 적합도= 27\n",
            "chess # 2 = [3, 6, 8, 3, 8, 7, 5, 2] 적합도= 25\n",
            "chess # 3 = [3, 6, 8, 3, 7, 7, 5, 2] 적합도= 24\n",
            "\n",
            "세대 번호= 27\n",
            "chess # 0 = [8, 6, 8, 3, 1, 7, 5, 2] 적합도= 27\n",
            "chess # 1 = [3, 6, 8, 1, 1, 7, 5, 2] 적합도= 27\n",
            "chess # 2 = [3, 6, 8, 3, 4, 7, 5, 2] 적합도= 26\n",
            "chess # 3 = [3, 6, 8, 3, 8, 7, 5, 2] 적합도= 25\n",
            "\n",
            "세대 번호= 28\n",
            "chess # 0 = [8, 6, 8, 3, 1, 7, 5, 2] 적합도= 27\n",
            "chess # 1 = [3, 6, 8, 1, 1, 7, 5, 2] 적합도= 27\n",
            "chess # 2 = [8, 6, 8, 3, 1, 7, 5, 2] 적합도= 27\n",
            "chess # 3 = [8, 6, 8, 8, 1, 7, 5, 2] 적합도= 23\n",
            "\n",
            "세대 번호= 29\n",
            "chess # 0 = [3, 6, 8, 1, 1, 7, 5, 2] 적합도= 27\n",
            "chess # 1 = [8, 6, 8, 3, 1, 7, 5, 2] 적합도= 27\n",
            "chess # 2 = [4, 6, 8, 3, 1, 7, 8, 2] 적합도= 26\n",
            "chess # 3 = [8, 6, 8, 1, 1, 7, 5, 2] 적합도= 26\n",
            "\n",
            "세대 번호= 30\n",
            "chess # 0 = [4, 6, 8, 3, 1, 7, 5, 2] 적합도= 28\n",
            "chess # 1 = [8, 6, 8, 7, 1, 7, 5, 2] 적합도= 25\n",
            "chess # 2 = [8, 6, 8, 3, 3, 7, 5, 2] 적합도= 24\n",
            "chess # 3 = [3, 6, 8, 1, 1, 7, 8, 5] 적합도= 23\n",
            "\n"
          ]
        }
      ]
    },
    {
      "cell_type": "code",
      "source": [],
      "metadata": {
        "id": "VlwMx3-oMoe3"
      },
      "execution_count": null,
      "outputs": []
    },
    {
      "cell_type": "markdown",
      "source": [
        "\n",
        "\n",
        "---\n",
        "\n"
      ],
      "metadata": {
        "id": "jcRiONTXMnQJ"
      }
    },
    {
      "cell_type": "markdown",
      "source": [
        "기존의 선택 연산을 토너먼트 선택 연산으로 변경하여 진행하였고, 해당 방법은 염색체를 랜덤하게 선택하여 비교하고, 그 중에서 가장 좋은 염색체를 선택하는 방법이다.\n",
        "\n",
        "먼저 일정한 개수의 염색체를 랜덤하게 선택한 후, 선택된 염색체들 중에서 가장 적합도가 높은 염색체를 선택하고 이 과정을 여러 번 반복하여 새로운 염색체 집단을 생성하는 것이다. "
      ],
      "metadata": {
        "id": "jpvHCMA1MUpU"
      }
    },
    {
      "cell_type": "markdown",
      "source": [
        "8-queen 문제는 가능한 해의 수가 매우 많기 때문에 돌연변이 비율이 너무 높으면 유전자 중 절반 이상이 매번 무작위로 변이하기 때문에 1000번의 반복 연산을 줘도 최적해를 찾을 수 없었음\n",
        "\n",
        "따라서 mutation_rate를 0.1로 설정했더니 세대 번호 '177'에서 적합도 28을 발견할 수 있었음 그래서 다시 mutation_rate를 0.5부터 돌려봤더니,\n",
        "\n",
        "0.05는 세대 번호 690,\n",
        "\n",
        "0.06은 세대 번호 470,\n",
        "\n",
        "0.07은 세대 번호 30만에 적합도 28을 발견할 수 있었고 이를 최종 제출하게 되었음"
      ],
      "metadata": {
        "id": "_NsbDwn6KSM2"
      }
    },
    {
      "cell_type": "code",
      "source": [],
      "metadata": {
        "id": "fIVIz1_JpUSS"
      },
      "execution_count": null,
      "outputs": []
    }
  ]
}