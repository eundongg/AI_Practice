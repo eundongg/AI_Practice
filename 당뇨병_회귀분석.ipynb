{
  "nbformat": 4,
  "nbformat_minor": 0,
  "metadata": {
    "colab": {
      "provenance": [],
      "authorship_tag": "ABX9TyN7TmOMfm1Ri7ZIH/2ZIgUu",
      "include_colab_link": true
    },
    "kernelspec": {
      "name": "python3",
      "display_name": "Python 3"
    },
    "language_info": {
      "name": "python"
    }
  },
  "cells": [
    {
      "cell_type": "markdown",
      "metadata": {
        "id": "view-in-github",
        "colab_type": "text"
      },
      "source": [
        "<a href=\"https://colab.research.google.com/github/eundongg/AI_Practice/blob/main/%EB%8B%B9%EB%87%A8%EB%B3%91_%ED%9A%8C%EA%B7%80%EB%B6%84%EC%84%9D.ipynb\" target=\"_parent\"><img src=\"https://colab.research.google.com/assets/colab-badge.svg\" alt=\"Open In Colab\"/></a>"
      ]
    },
    {
      "cell_type": "markdown",
      "source": [
        "아래의 diabetes데이터를 활용하여 여러 feature를 입력으로하는 회귀 모델을 개발하시오\n",
        "\n",
        "반드시 학습데이터:테스트데이터의 비율은 8:2로 생성하며,\n",
        "\n",
        "random_state=0을 꼭 지켜주시기 바랍니다\n",
        "\n",
        "**샘플 코드를 참고하여 여러가지 linear / non-linear model을 개발**하고\n",
        "\n",
        "**평균 오차의 제곱의 합을 계산**하시오\n",
        "\n",
        "단, **평균 오차의 제곱의 합이 3500 이하인 모델 2개를 찾고, 모델의 특징을 설명**하시오\n",
        "\n",
        "(평균 오차의 제곱은 수업자료 및 구글링\b을 참고)\n",
        "\n",
        " \n",
        "\n",
        "제출은 .ipynb 또는 .py로 제출하며, 출력은 모델의 이름과 평균 오차의 제곱의 합을 포함하여야합니다.\n",
        "\n",
        "모델의 특징은 제출시 text로 작성하시거나 코드에 주석으로 남겨두셔도 됩니다"
      ],
      "metadata": {
        "id": "2_3dxXH2QgiG"
      }
    },
    {
      "cell_type": "markdown",
      "source": [
        "# linear model"
      ],
      "metadata": {
        "id": "EMeGVOfnSs91"
      }
    },
    {
      "cell_type": "code",
      "source": [
        "import matplotlib.pyplot as plt\n",
        "from sklearn import linear_model\n",
        "from sklearn.metrics import mean_squared_error"
      ],
      "metadata": {
        "id": "KhIF5GheN-Fu"
      },
      "execution_count": null,
      "outputs": []
    },
    {
      "cell_type": "code",
      "execution_count": null,
      "metadata": {
        "id": "z5e8RlhhPPAI"
      },
      "outputs": [],
      "source": [
        "from sklearn import datasets\n",
        "from sklearn.model_selection import train_test_split"
      ]
    },
    {
      "cell_type": "code",
      "source": [
        "diabetes = datasets.load_diabetes()\n",
        "train_x,test_x,train_y,test_y = train_test_split(diabetes.data,diabetes.target,test_size=0.2,random_state=0)"
      ],
      "metadata": {
        "id": "AE2IzcDqP6kI"
      },
      "execution_count": null,
      "outputs": []
    },
    {
      "cell_type": "code",
      "source": [
        "print(train_x)"
      ],
      "metadata": {
        "colab": {
          "base_uri": "https://localhost:8080/"
        },
        "id": "Fs0S31khKLV9",
        "outputId": "9c0cb072-9c81-43f8-baf1-051eaecf1439"
      },
      "execution_count": null,
      "outputs": [
        {
          "output_type": "stream",
          "name": "stdout",
          "text": [
            "[[ 0.01264814  0.05068012  0.00241654 ... -0.03949338  0.00370906\n",
            "   0.07348023]\n",
            " [-0.10722563 -0.04464164 -0.07734155 ... -0.0763945  -0.04257085\n",
            "  -0.0052198 ]\n",
            " [ 0.02717829  0.05068012 -0.03530688 ... -0.00259226 -0.01495969\n",
            "  -0.05078298]\n",
            " ...\n",
            " [ 0.05987114 -0.04464164 -0.02129532 ...  0.07120998  0.07912244\n",
            "   0.13561183]\n",
            " [-0.07816532 -0.04464164 -0.0730303  ... -0.03949338 -0.01811369\n",
            "  -0.08391984]\n",
            " [ 0.04170844  0.05068012  0.07139652 ...  0.03430886  0.07340696\n",
            "   0.08590655]]\n"
          ]
        }
      ]
    },
    {
      "cell_type": "code",
      "source": [
        "print(test_x)"
      ],
      "metadata": {
        "colab": {
          "base_uri": "https://localhost:8080/"
        },
        "id": "oCL-28YZKZNL",
        "outputId": "2b20fecc-47d9-455c-e0fe-741d046223d7"
      },
      "execution_count": null,
      "outputs": [
        {
          "output_type": "stream",
          "name": "stdout",
          "text": [
            "[[ 0.01991321  0.05068012  0.10480869  0.0700723  -0.03596778 -0.0266789\n",
            "  -0.02499266 -0.00259226  0.00370906  0.04034337]\n",
            " [-0.01277963 -0.04464164  0.06061839  0.05285804  0.04796534  0.02937467\n",
            "  -0.01762938  0.03430886  0.07020738  0.00720652]\n",
            " [ 0.03807591  0.05068012  0.00888341  0.04252949 -0.04284755 -0.02104223\n",
            "  -0.03971921 -0.00259226 -0.01811369  0.00720652]\n",
            " [-0.01277963 -0.04464164 -0.02345095 -0.04009893 -0.01670444  0.00463594\n",
            "  -0.01762938 -0.00259226 -0.03845972 -0.03835666]\n",
            " [-0.02367725 -0.04464164  0.04552903  0.09072941 -0.01808039 -0.03544706\n",
            "   0.07072993 -0.03949338 -0.03452178 -0.00936191]\n",
            " [-0.02004471 -0.04464164  0.097264   -0.00567042 -0.00569682 -0.02386057\n",
            "  -0.02131102 -0.00259226  0.06168429  0.04034337]\n",
            " [ 0.01628068 -0.04464164 -0.02884001 -0.00911327 -0.00432087 -0.00976889\n",
            "   0.04495846 -0.03949338 -0.03074792 -0.04249877]\n",
            " [ 0.05987114  0.05068012  0.02289497  0.04941519  0.01631843  0.01183836\n",
            "  -0.01394774 -0.00259226  0.03954249  0.01963284]\n",
            " [-0.05273755 -0.04464164  0.05415152 -0.02632753 -0.05523112 -0.03388132\n",
            "  -0.01394774 -0.03949338 -0.07409261 -0.05906719]\n",
            " [-0.03094232 -0.04464164  0.04660684  0.01498668 -0.01670444 -0.04703355\n",
            "   0.00077881 -0.00259226  0.06345272 -0.02593034]\n",
            " [ 0.00538306 -0.04464164 -0.05794093 -0.02288468 -0.0676147  -0.06832765\n",
            "  -0.05444576 -0.00259226  0.04289704 -0.08391984]\n",
            " [ 0.03081083  0.05068012  0.04660684 -0.01599898  0.02044629  0.05066877\n",
            "  -0.0581274   0.07120998  0.00620674  0.00720652]\n",
            " [ 0.02354575  0.05068012 -0.0374625  -0.04698463 -0.0910059  -0.07553006\n",
            "  -0.03235593 -0.03949338 -0.03074792 -0.01350402]\n",
            " [-0.02004471 -0.04464164 -0.046085   -0.0986274  -0.07587041 -0.05987264\n",
            "  -0.01762938 -0.03949338 -0.05140387 -0.04664087]\n",
            " [ 0.06350368  0.05068012  0.08864151  0.0700723   0.02044629  0.03751653\n",
            "  -0.05076412  0.07120998  0.02929656  0.07348023]\n",
            " [-0.0854304   0.05068012 -0.02237314  0.00121528 -0.03734373 -0.02636575\n",
            "   0.01550536 -0.03949338 -0.07213275 -0.01764613]\n",
            " [-0.06726771 -0.04464164 -0.05901875  0.03220094 -0.05110326 -0.04953874\n",
            "  -0.01026611 -0.03949338  0.00200444  0.02377494]\n",
            " [-0.00188202 -0.04464164 -0.05147406 -0.02632753 -0.00844872 -0.01916334\n",
            "   0.07441156 -0.03949338 -0.06833155 -0.09220405]\n",
            " [-0.09632802 -0.04464164 -0.08380842  0.00810098 -0.10338947 -0.09056119\n",
            "  -0.01394774 -0.0763945  -0.06291688 -0.03421455]\n",
            " [ 0.03081083 -0.04464164  0.04013997  0.076958    0.01769438  0.03782968\n",
            "  -0.02867429  0.03430886 -0.00149595  0.1190434 ]\n",
            " [-0.03094232  0.05068012  0.02828403  0.0700723  -0.12678067 -0.10684491\n",
            "  -0.05444576 -0.04798064 -0.03074792  0.01549073]\n",
            " [-0.00914709 -0.04464164  0.01103904 -0.05731319 -0.02496016 -0.04296262\n",
            "   0.03023191 -0.03949338  0.01703607 -0.0052198 ]\n",
            " [ 0.05260606  0.05068012 -0.02452876  0.0563009  -0.00707277 -0.00507166\n",
            "  -0.02131102 -0.00259226  0.02671684 -0.03835666]\n",
            " [ 0.00538306 -0.04464164  0.05846277 -0.04354178 -0.07311851 -0.07239858\n",
            "   0.019187   -0.0763945  -0.05140387 -0.02593034]\n",
            " [-0.07453279  0.05068012  0.05522933 -0.04009893  0.05346915  0.05317395\n",
            "  -0.04340085  0.07120998  0.06123763 -0.03421455]\n",
            " [ 0.01628068 -0.04464164  0.01750591 -0.02288468  0.06034892  0.0444058\n",
            "   0.03023191 -0.00259226  0.03723625 -0.0010777 ]\n",
            " [ 0.04897352 -0.04464164 -0.04177375  0.10450081  0.03558177 -0.02573946\n",
            "   0.17749742 -0.0763945  -0.01290868  0.01549073]\n",
            " [ 0.01628068 -0.04464164 -0.04500719 -0.05731319 -0.03459183 -0.05392282\n",
            "   0.07441156 -0.0763945  -0.04257085  0.04034337]\n",
            " [ 0.01991321 -0.04464164  0.00457217  0.04597234 -0.01808039 -0.05454912\n",
            "   0.06336665 -0.03949338  0.02865846  0.06105391]\n",
            " [ 0.00175052  0.05068012  0.02612841 -0.00911327  0.02457414  0.03845598\n",
            "  -0.02131102  0.03430886  0.00943366  0.00306441]\n",
            " [ 0.04534098  0.05068012 -0.00297252  0.10794366  0.03558177  0.02248541\n",
            "   0.02655027 -0.00259226  0.02802037  0.01963284]\n",
            " [-0.01641217 -0.04464164 -0.05255187 -0.03321323 -0.0442235  -0.03638651\n",
            "   0.019187   -0.03949338 -0.06833155 -0.03007245]\n",
            " [-0.07453279 -0.04464164 -0.0105172  -0.00567042 -0.06623874 -0.0570543\n",
            "  -0.00290283 -0.03949338 -0.04257085 -0.0010777 ]\n",
            " [-0.10722563 -0.04464164 -0.01159501 -0.04009893  0.0493413   0.0644473\n",
            "  -0.01394774  0.03430886  0.00702714 -0.03007245]\n",
            " [ 0.04534098 -0.04464164 -0.00620595 -0.01599898  0.1250187   0.1251981\n",
            "   0.019187    0.03430886  0.03243232 -0.0052198 ]\n",
            " [ 0.01628068 -0.04464164  0.02073935  0.02187239 -0.01395254 -0.01321352\n",
            "  -0.00658447 -0.00259226  0.01331691  0.04034337]\n",
            " [-0.02367725 -0.04464164 -0.01590626 -0.01255612  0.02044629  0.04127431\n",
            "  -0.04340085  0.03430886  0.0140735  -0.00936191]\n",
            " [ 0.03444337  0.05068012 -0.00943939  0.05974375 -0.03596778 -0.00757685\n",
            "  -0.07653559  0.07120998  0.01101066 -0.02178823]\n",
            " [ 0.01628068 -0.04464164  0.00133873  0.00810098  0.0053108   0.01089891\n",
            "   0.03023191 -0.03949338 -0.04542404  0.03205916]\n",
            " [ 0.01264814 -0.04464164  0.03367309  0.03333708  0.03007796  0.02718263\n",
            "  -0.00290283  0.00884709  0.0311926   0.02791705]\n",
            " [-0.01277963 -0.04464164 -0.06548562 -0.06994845  0.00118295  0.01684873\n",
            "  -0.00290283 -0.0070204  -0.03074792 -0.05078298]\n",
            " [-0.05637009  0.05068012 -0.0105172   0.02531524  0.02319819  0.04002172\n",
            "  -0.03971921  0.03430886  0.02060939  0.0569118 ]\n",
            " [ 0.02717829 -0.04464164 -0.00728377 -0.05042748  0.0754844   0.05661859\n",
            "   0.03391355 -0.00259226  0.04344397  0.01549073]\n",
            " [ 0.05260606 -0.04464164 -0.00405033 -0.03090652 -0.0469754  -0.0583069\n",
            "  -0.01394774 -0.02583997  0.03606033  0.02377494]\n",
            " [ 0.0090156   0.05068012  0.03043966  0.04252949 -0.00294491  0.03689023\n",
            "  -0.06549067  0.07120998 -0.02364686  0.01549073]\n",
            " [ 0.06713621 -0.04464164 -0.06117437 -0.04009893 -0.02633611 -0.02448686\n",
            "   0.03391355 -0.03949338 -0.0561531  -0.05906719]\n",
            " [ 0.04534098 -0.04464164 -0.0191397   0.02187239  0.02732605 -0.01352667\n",
            "   0.10018303 -0.03949338  0.01776532 -0.01350402]\n",
            " [-0.04910502 -0.04464164  0.0250506   0.00810098  0.02044629  0.01778818\n",
            "   0.05232174 -0.03949338 -0.04117617  0.00720652]\n",
            " [-0.00188202  0.05068012 -0.03315126 -0.01830569  0.03145391  0.04284006\n",
            "  -0.01394774  0.01991742  0.01022672  0.02791705]\n",
            " [-0.00188202 -0.04464164  0.03367309  0.12515791  0.02457414  0.02624319\n",
            "  -0.01026611 -0.00259226  0.02671684  0.06105391]\n",
            " [ 0.04170844  0.05068012 -0.02237314  0.02875809 -0.06623874 -0.04515466\n",
            "  -0.06180903 -0.00259226  0.00286131 -0.05492509]\n",
            " [-0.04547248  0.05068012 -0.04716281 -0.01599898 -0.04009564 -0.02480001\n",
            "   0.00077881 -0.03949338 -0.06291688 -0.03835666]\n",
            " [-0.02004471 -0.04464164  0.01858372  0.09072941  0.00393485  0.00870687\n",
            "   0.03759519 -0.03949338 -0.05780303  0.00720652]\n",
            " [ 0.04534098  0.05068012 -0.00836158 -0.03321323 -0.00707277  0.00119131\n",
            "  -0.03971921  0.03430886  0.02993465  0.02791705]\n",
            " [-0.00551455 -0.04464164  0.0433734   0.08728655  0.01356652  0.00714113\n",
            "  -0.01394774 -0.00259226  0.04234098 -0.01764613]\n",
            " [-0.05273755  0.05068012 -0.01806189  0.08040085  0.08924393  0.10766179\n",
            "  -0.03971921  0.1081111   0.03606033 -0.04249877]\n",
            " [-0.02367725 -0.04464164  0.03043966 -0.00567042  0.08236416  0.09200436\n",
            "  -0.01762938  0.07120998  0.03304307  0.00306441]\n",
            " [-0.07090025 -0.04464164 -0.00405033 -0.04009893 -0.06623874 -0.07866155\n",
            "   0.05232174 -0.0763945  -0.05140387 -0.03421455]\n",
            " [ 0.07076875 -0.04464164 -0.00512814 -0.00567042  0.08786798  0.10296456\n",
            "   0.01182372  0.03430886 -0.0089434   0.02791705]\n",
            " [ 0.04170844  0.05068012  0.01211685  0.03908664  0.05484511  0.0444058\n",
            "   0.00446045 -0.00259226  0.04560437 -0.0010777 ]\n",
            " [-0.04183994 -0.04464164  0.04121778 -0.02632753 -0.03183992 -0.03043668\n",
            "  -0.03603757  0.00294291  0.03365381 -0.01764613]\n",
            " [-0.00551455 -0.04464164  0.02397278  0.00810098 -0.03459183 -0.03889169\n",
            "   0.02286863 -0.03949338 -0.01599887 -0.01350402]\n",
            " [ 0.02717829 -0.04464164  0.04984027 -0.05500648 -0.00294491  0.04064802\n",
            "  -0.0581274   0.05275942 -0.05296264 -0.0052198 ]\n",
            " [ 0.01628068  0.05068012 -0.02129532 -0.00911327  0.03420581  0.04785043\n",
            "   0.00077881 -0.00259226 -0.01290868  0.02377494]\n",
            " [ 0.04897352 -0.04464164  0.06061839 -0.02288468 -0.02358421 -0.07271173\n",
            "  -0.04340085 -0.00259226  0.10413565  0.03620126]\n",
            " [-0.09269548 -0.04464164  0.02828403 -0.01599898  0.03695772  0.02499059\n",
            "   0.05600338 -0.03949338 -0.00514219 -0.0010777 ]\n",
            " [-0.00914709 -0.04464164 -0.06225218 -0.07452744 -0.02358421 -0.01321352\n",
            "   0.00446045 -0.03949338 -0.03581619 -0.04664087]\n",
            " [-0.02730979 -0.04464164  0.04768465 -0.04698463  0.03420581  0.05724488\n",
            "  -0.08021722  0.13025177  0.04506655  0.13146972]\n",
            " [-0.08179786  0.05068012  0.04229559 -0.01944183  0.03970963  0.05755803\n",
            "  -0.06917231  0.1081111   0.04719048 -0.03835666]\n",
            " [-0.04547248 -0.04464164 -0.0730303  -0.08141314  0.08374012  0.02780893\n",
            "   0.17381578 -0.03949338 -0.00422151  0.00306441]\n",
            " [ 0.01264814 -0.04464164 -0.02560657 -0.04009893 -0.03046397 -0.04515466\n",
            "   0.0780932  -0.0763945  -0.07213275  0.01134862]\n",
            " [ 0.06350368  0.05068012 -0.02560657  0.01154383  0.06447678  0.04847673\n",
            "   0.03023191 -0.00259226  0.03839393  0.01963284]\n",
            " [ 0.03807591  0.05068012 -0.02991782 -0.07452744 -0.01257658 -0.01258722\n",
            "   0.00446045 -0.00259226  0.00370906 -0.03007245]\n",
            " [ 0.06713621 -0.04464164  0.03690653 -0.05042748 -0.02358421 -0.03450761\n",
            "   0.0486401  -0.03949338 -0.02595311 -0.03835666]\n",
            " [-0.03457486  0.05068012  0.00564998 -0.00567042 -0.07311851 -0.06269098\n",
            "  -0.00658447 -0.03949338 -0.04542404  0.03205916]\n",
            " [-0.04547248  0.05068012 -0.02452876  0.05974375  0.0053108   0.01496984\n",
            "  -0.05444576  0.07120998  0.04234098  0.01549073]\n",
            " [-0.00551455  0.05068012 -0.01590626 -0.06764174  0.0493413   0.07916528\n",
            "  -0.02867429  0.03430886 -0.01811369  0.04448548]\n",
            " [-0.02730979  0.05068012  0.06061839  0.04941519  0.08511607  0.08636769\n",
            "  -0.00290283  0.03430886  0.03781053  0.04862759]\n",
            " [ 0.04897352  0.05068012  0.08109682  0.02187239  0.04383748  0.06413415\n",
            "  -0.05444576  0.07120998  0.03243232  0.04862759]\n",
            " [ 0.01264814 -0.04464164  0.02612841  0.0631866   0.1250187   0.09169122\n",
            "   0.06336665 -0.00259226  0.05757316 -0.02178823]\n",
            " [ 0.00538306 -0.04464164 -0.00297252  0.04941519  0.07410845  0.07071027\n",
            "   0.04495846 -0.00259226 -0.00149595 -0.00936191]\n",
            " [ 0.0562386   0.05068012  0.00996123  0.04941519 -0.00432087 -0.01227407\n",
            "  -0.04340085  0.03430886  0.06079096  0.03205916]\n",
            " [ 0.02354575  0.05068012 -0.02021751 -0.03665608 -0.01395254 -0.01509241\n",
            "   0.05968501 -0.03949338 -0.09643495 -0.01764613]\n",
            " [ 0.01991321  0.05068012  0.01427248  0.0631866   0.01494247  0.02029337\n",
            "  -0.04708248  0.03430886  0.04666178  0.09004865]\n",
            " [-0.07090025  0.05068012 -0.08919748 -0.07452744 -0.04284755 -0.02573946\n",
            "  -0.03235593 -0.00259226 -0.01290868 -0.05492509]\n",
            " [ 0.00175052 -0.04464164 -0.07087468 -0.02288468 -0.00156896 -0.00100073\n",
            "   0.02655027 -0.03949338 -0.02251653  0.00720652]\n",
            " [-0.07453279 -0.04464164  0.0433734  -0.03321323  0.01219057  0.00025186\n",
            "   0.06336665 -0.03949338 -0.02712902 -0.04664087]\n",
            " [-0.04183994  0.05068012  0.01427248 -0.00567042 -0.01257658  0.00620169\n",
            "  -0.07285395  0.07120998  0.0354587  -0.01350402]\n",
            " [-0.05273755 -0.04464164 -0.00943939 -0.00567042  0.03970963  0.04471895\n",
            "   0.02655027 -0.00259226 -0.01811369 -0.01350402]]\n"
          ]
        }
      ]
    },
    {
      "cell_type": "code",
      "source": [
        "print(train_y)"
      ],
      "metadata": {
        "colab": {
          "base_uri": "https://localhost:8080/"
        },
        "id": "zxk6sPRkKcQw",
        "outputId": "ea9bad1e-ef19-471c-bf39-1bc6fd08656d"
      },
      "execution_count": null,
      "outputs": [
        {
          "output_type": "stream",
          "name": "stdout",
          "text": [
            "[ 85. 137.  53.  51. 197. 135.  72. 208. 237. 145. 110. 292.  97. 197.\n",
            " 158. 163.  63. 192. 233.  68. 160. 178.  68. 109.  94. 118. 275. 275.\n",
            " 127. 281.  71.  42.  71. 128. 272. 135.  51. 220. 167.  78. 131. 212.\n",
            " 182. 174. 259.  77.  91. 310.  84. 134. 102. 128. 306. 245. 201. 183.\n",
            " 111.  96. 125. 182. 177.  48.  97. 259. 288. 242.  69.  31. 154. 150.\n",
            "  52. 261. 118. 102. 139.  51.  58. 144. 178.  97.  78. 129. 258. 124.\n",
            " 198. 185.  66. 237. 178. 275. 268. 242. 200. 214. 246. 236.  85. 114.\n",
            "  93.  99.  72. 270. 111.  83.  87.  42. 172.  65. 259. 279. 141. 144.\n",
            " 220.  90. 101.  53.  67.  72. 121. 303. 232. 140. 190. 221.  71. 116.\n",
            " 111. 280. 233.  78. 150. 283.  64. 140.  65. 225. 206.  63. 296. 173.\n",
            "  85. 141.  50.  25. 153.  55. 139. 336.  73.  95. 109.  44. 180. 263.\n",
            " 148.  79.  65. 102. 220. 277. 246. 200. 262. 191.  97. 184.  85. 248.\n",
            " 150. 268.  59.  70.  88. 100. 190. 113.  66. 243. 185. 262.  48. 160.\n",
            " 217. 210. 132. 257. 104. 126. 292. 166.  83.  81. 144. 281.  72.  39.\n",
            " 109.  60. 258. 178. 168.  87.  77. 216. 206. 142. 161. 265.  60. 200.\n",
            " 265. 272. 146.  94.  55.  69. 138. 258. 143. 172.  89.  69. 199.  55.\n",
            "  45. 265.  91. 170.  55. 202. 155.  77.  77.  71. 123.  84. 252.  52.\n",
            "  40. 274. 143. 245.  92. 151.  39. 235.  92. 253.  94.  81. 346.  90.\n",
            " 181. 162. 277. 152. 178. 124.  75. 263. 202. 200. 108.  96.  60.  72.\n",
            " 107.  54. 158. 152. 220. 308. 249. 222.  65. 173.  88.  72. 164.  52.\n",
            " 115. 200.  90. 248.  37. 230.  63. 273.  61.  53. 189. 241. 118. 252.\n",
            " 104. 219. 115. 332. 131. 185.  63. 131.  88. 187. 196.  59. 341. 109.\n",
            " 101. 113.  80. 242. 168. 128. 233. 209. 225.  83. 214.  96. 129.  47.\n",
            " 229. 293.  74. 202. 164. 202.  59.  91. 120. 151. 310.  90. 116. 147.\n",
            "  43.  42.  48. 134.  84.  71.  64.  70. 310. 311. 122. 243. 248.  91.\n",
            " 281. 142. 295.]\n"
          ]
        }
      ]
    },
    {
      "cell_type": "code",
      "source": [
        "print(test_y)"
      ],
      "metadata": {
        "colab": {
          "base_uri": "https://localhost:8080/"
        },
        "id": "hrw4SXtcKiuc",
        "outputId": "6b1258fb-1c19-4952-e8f4-322c2e6c434c"
      },
      "execution_count": null,
      "outputs": [
        {
          "output_type": "stream",
          "name": "stdout",
          "text": [
            "[321. 215. 127.  64. 175. 275. 179. 232. 142.  99. 252. 174. 129.  74.\n",
            " 264.  49.  86.  75. 101. 155. 170. 276. 110. 136.  68. 128. 103.  93.\n",
            " 191. 196. 217. 181. 168. 200. 219. 281. 151. 257.  49. 198.  96. 179.\n",
            "  95. 198. 244.  89. 214. 182.  84. 270. 156. 138. 113. 131. 195. 171.\n",
            " 122.  61. 230. 235.  52. 121. 144. 107. 132. 302.  53. 317. 137.  57.\n",
            "  98. 170.  88.  90.  67. 163. 104. 186. 180. 283. 141. 150.  47. 297.\n",
            " 104.  49. 103. 142.  59.]\n"
          ]
        }
      ]
    },
    {
      "cell_type": "code",
      "source": [
        "print(train_x.shape)"
      ],
      "metadata": {
        "colab": {
          "base_uri": "https://localhost:8080/"
        },
        "id": "Xr54FRxsKGXo",
        "outputId": "14cf90df-3bef-4abf-b4fe-0973b48f0a8c"
      },
      "execution_count": null,
      "outputs": [
        {
          "output_type": "stream",
          "name": "stdout",
          "text": [
            "(353, 10)\n"
          ]
        }
      ]
    },
    {
      "cell_type": "code",
      "source": [
        "print(test_x.shape)"
      ],
      "metadata": {
        "colab": {
          "base_uri": "https://localhost:8080/"
        },
        "id": "hjlgO3jzLl8b",
        "outputId": "6a3f1a87-9698-4591-e2f8-2399e008e8ec"
      },
      "execution_count": null,
      "outputs": [
        {
          "output_type": "stream",
          "name": "stdout",
          "text": [
            "(89, 10)\n"
          ]
        }
      ]
    },
    {
      "cell_type": "code",
      "source": [
        "print(train_y.shape)"
      ],
      "metadata": {
        "colab": {
          "base_uri": "https://localhost:8080/"
        },
        "id": "FnbUgQPmLrpO",
        "outputId": "04863f90-faaf-4a3c-d01d-da99b371ab59"
      },
      "execution_count": null,
      "outputs": [
        {
          "output_type": "stream",
          "name": "stdout",
          "text": [
            "(353,)\n"
          ]
        }
      ]
    },
    {
      "cell_type": "code",
      "source": [
        "print(test_y.shape)"
      ],
      "metadata": {
        "colab": {
          "base_uri": "https://localhost:8080/"
        },
        "id": "lSHw8MStLt5M",
        "outputId": "1024f866-406f-487a-ea91-2fed69dd3f77"
      },
      "execution_count": null,
      "outputs": [
        {
          "output_type": "stream",
          "name": "stdout",
          "text": [
            "(89,)\n"
          ]
        }
      ]
    },
    {
      "cell_type": "markdown",
      "source": [
        "특징 : 하나의 종속 변수와 여러 개의 독립 변수간의 선형 괸계를 모델링\n",
        "\n",
        "y = W1x1 + W2x2 +...+ Wnxn + b\n",
        " "
      ],
      "metadata": {
        "id": "IMZAOAKt1JN0"
      }
    },
    {
      "cell_type": "code",
      "source": [
        "for i, feature_name in enumerate(diabetes.feature_names):\n",
        "  print(f'feature {i+1} : {feature_name}')"
      ],
      "metadata": {
        "colab": {
          "base_uri": "https://localhost:8080/"
        },
        "id": "h5SfuOJILxzQ",
        "outputId": "d315f81f-fb1f-4d92-d01a-a8443302be72"
      },
      "execution_count": null,
      "outputs": [
        {
          "output_type": "stream",
          "name": "stdout",
          "text": [
            "feature 1 : age\n",
            "feature 2 : sex\n",
            "feature 3 : bmi\n",
            "feature 4 : bp\n",
            "feature 5 : s1\n",
            "feature 6 : s2\n",
            "feature 7 : s3\n",
            "feature 8 : s4\n",
            "feature 9 : s5\n",
            "feature 10 : s6\n"
          ]
        }
      ]
    },
    {
      "cell_type": "markdown",
      "source": [
        "## 1. 다중 선형 회귀 분석"
      ],
      "metadata": {
        "id": "70-YGm6-xYBP"
      }
    },
    {
      "cell_type": "code",
      "source": [
        "reg = linear_model.LinearRegression()"
      ],
      "metadata": {
        "id": "Wq7vlU07MbPp"
      },
      "execution_count": null,
      "outputs": []
    },
    {
      "cell_type": "code",
      "source": [
        "# 선형 회귀 모델 학습\n",
        "reg.fit(train_x, train_y)"
      ],
      "metadata": {
        "colab": {
          "base_uri": "https://localhost:8080/",
          "height": 74
        },
        "id": "ZU1z4JkjOcFL",
        "outputId": "6a31cf63-ac3c-4647-8ec5-959bf7127062"
      },
      "execution_count": null,
      "outputs": [
        {
          "output_type": "execute_result",
          "data": {
            "text/plain": [
              "LinearRegression()"
            ],
            "text/html": [
              "<style>#sk-container-id-3 {color: black;background-color: white;}#sk-container-id-3 pre{padding: 0;}#sk-container-id-3 div.sk-toggleable {background-color: white;}#sk-container-id-3 label.sk-toggleable__label {cursor: pointer;display: block;width: 100%;margin-bottom: 0;padding: 0.3em;box-sizing: border-box;text-align: center;}#sk-container-id-3 label.sk-toggleable__label-arrow:before {content: \"▸\";float: left;margin-right: 0.25em;color: #696969;}#sk-container-id-3 label.sk-toggleable__label-arrow:hover:before {color: black;}#sk-container-id-3 div.sk-estimator:hover label.sk-toggleable__label-arrow:before {color: black;}#sk-container-id-3 div.sk-toggleable__content {max-height: 0;max-width: 0;overflow: hidden;text-align: left;background-color: #f0f8ff;}#sk-container-id-3 div.sk-toggleable__content pre {margin: 0.2em;color: black;border-radius: 0.25em;background-color: #f0f8ff;}#sk-container-id-3 input.sk-toggleable__control:checked~div.sk-toggleable__content {max-height: 200px;max-width: 100%;overflow: auto;}#sk-container-id-3 input.sk-toggleable__control:checked~label.sk-toggleable__label-arrow:before {content: \"▾\";}#sk-container-id-3 div.sk-estimator input.sk-toggleable__control:checked~label.sk-toggleable__label {background-color: #d4ebff;}#sk-container-id-3 div.sk-label input.sk-toggleable__control:checked~label.sk-toggleable__label {background-color: #d4ebff;}#sk-container-id-3 input.sk-hidden--visually {border: 0;clip: rect(1px 1px 1px 1px);clip: rect(1px, 1px, 1px, 1px);height: 1px;margin: -1px;overflow: hidden;padding: 0;position: absolute;width: 1px;}#sk-container-id-3 div.sk-estimator {font-family: monospace;background-color: #f0f8ff;border: 1px dotted black;border-radius: 0.25em;box-sizing: border-box;margin-bottom: 0.5em;}#sk-container-id-3 div.sk-estimator:hover {background-color: #d4ebff;}#sk-container-id-3 div.sk-parallel-item::after {content: \"\";width: 100%;border-bottom: 1px solid gray;flex-grow: 1;}#sk-container-id-3 div.sk-label:hover label.sk-toggleable__label {background-color: #d4ebff;}#sk-container-id-3 div.sk-serial::before {content: \"\";position: absolute;border-left: 1px solid gray;box-sizing: border-box;top: 0;bottom: 0;left: 50%;z-index: 0;}#sk-container-id-3 div.sk-serial {display: flex;flex-direction: column;align-items: center;background-color: white;padding-right: 0.2em;padding-left: 0.2em;position: relative;}#sk-container-id-3 div.sk-item {position: relative;z-index: 1;}#sk-container-id-3 div.sk-parallel {display: flex;align-items: stretch;justify-content: center;background-color: white;position: relative;}#sk-container-id-3 div.sk-item::before, #sk-container-id-3 div.sk-parallel-item::before {content: \"\";position: absolute;border-left: 1px solid gray;box-sizing: border-box;top: 0;bottom: 0;left: 50%;z-index: -1;}#sk-container-id-3 div.sk-parallel-item {display: flex;flex-direction: column;z-index: 1;position: relative;background-color: white;}#sk-container-id-3 div.sk-parallel-item:first-child::after {align-self: flex-end;width: 50%;}#sk-container-id-3 div.sk-parallel-item:last-child::after {align-self: flex-start;width: 50%;}#sk-container-id-3 div.sk-parallel-item:only-child::after {width: 0;}#sk-container-id-3 div.sk-dashed-wrapped {border: 1px dashed gray;margin: 0 0.4em 0.5em 0.4em;box-sizing: border-box;padding-bottom: 0.4em;background-color: white;}#sk-container-id-3 div.sk-label label {font-family: monospace;font-weight: bold;display: inline-block;line-height: 1.2em;}#sk-container-id-3 div.sk-label-container {text-align: center;}#sk-container-id-3 div.sk-container {/* jupyter's `normalize.less` sets `[hidden] { display: none; }` but bootstrap.min.css set `[hidden] { display: none !important; }` so we also need the `!important` here to be able to override the default hidden behavior on the sphinx rendered scikit-learn.org. See: https://github.com/scikit-learn/scikit-learn/issues/21755 */display: inline-block !important;position: relative;}#sk-container-id-3 div.sk-text-repr-fallback {display: none;}</style><div id=\"sk-container-id-3\" class=\"sk-top-container\"><div class=\"sk-text-repr-fallback\"><pre>LinearRegression()</pre><b>In a Jupyter environment, please rerun this cell to show the HTML representation or trust the notebook. <br />On GitHub, the HTML representation is unable to render, please try loading this page with nbviewer.org.</b></div><div class=\"sk-container\" hidden><div class=\"sk-item\"><div class=\"sk-estimator sk-toggleable\"><input class=\"sk-toggleable__control sk-hidden--visually\" id=\"sk-estimator-id-3\" type=\"checkbox\" checked><label for=\"sk-estimator-id-3\" class=\"sk-toggleable__label sk-toggleable__label-arrow\">LinearRegression</label><div class=\"sk-toggleable__content\"><pre>LinearRegression()</pre></div></div></div></div></div>"
            ]
          },
          "metadata": {},
          "execution_count": 43
        }
      ]
    },
    {
      "cell_type": "code",
      "source": [
        "# 선형 회귀 모델 예측\n",
        "pred_y = reg.predict(test_x)"
      ],
      "metadata": {
        "id": "rSji1EhMPiBb"
      },
      "execution_count": null,
      "outputs": []
    },
    {
      "cell_type": "code",
      "source": [
        "# 평균 오차 제곱의 합(MSE)\n",
        "print(mean_squared_error(test_y, pred_y))"
      ],
      "metadata": {
        "colab": {
          "base_uri": "https://localhost:8080/"
        },
        "id": "g4S0LfWQQNgA",
        "outputId": "0a8b0e18-d869-4253-fad9-a0c8e3c42a20"
      },
      "execution_count": null,
      "outputs": [
        {
          "output_type": "stream",
          "name": "stdout",
          "text": [
            "3424.259334298692\n"
          ]
        }
      ]
    },
    {
      "cell_type": "markdown",
      "source": [
        "## 2.Ridge 회귀 모델\n",
        "\n",
        "기본 선형모델을 사용하다 보면 overfitting이 발생할 수 있는데, 이런 경우 데이터에 매우 적합되어 극단적으로 오르락 내리락 하는 그래프가 생성되며 이를 표현하는 선형 회귀 계수 값이 매우 크게 나타남\n",
        "이런 상황을 막기 위해 계수 자체가 크면 패널티를 주는 수식을 추가한 것이 ridge regression"
      ],
      "metadata": {
        "id": "-ld1GCR3zJ5p"
      }
    },
    {
      "cell_type": "code",
      "source": [
        "from sklearn.linear_model import Ridge"
      ],
      "metadata": {
        "id": "fANRDvT7Qnib"
      },
      "execution_count": null,
      "outputs": []
    },
    {
      "cell_type": "code",
      "source": [
        "ridge_reg = Ridge(alpha =0.4)\n",
        "# alpha는 규제 강도를 조절하는 parameter\n",
        "# alpha값이 커질수록 규제가 강해지고, 모델의 복잡도가 감소함"
      ],
      "metadata": {
        "id": "850IoU-MzTn1"
      },
      "execution_count": null,
      "outputs": []
    },
    {
      "cell_type": "code",
      "source": [
        "ridge_reg.fit(train_x,train_y)"
      ],
      "metadata": {
        "colab": {
          "base_uri": "https://localhost:8080/",
          "height": 74
        },
        "id": "e9BoGl2lzbRi",
        "outputId": "78aeb3df-cac3-4717-d24b-b1f50c9c3836"
      },
      "execution_count": null,
      "outputs": [
        {
          "output_type": "execute_result",
          "data": {
            "text/plain": [
              "Ridge(alpha=0.4)"
            ],
            "text/html": [
              "<style>#sk-container-id-4 {color: black;background-color: white;}#sk-container-id-4 pre{padding: 0;}#sk-container-id-4 div.sk-toggleable {background-color: white;}#sk-container-id-4 label.sk-toggleable__label {cursor: pointer;display: block;width: 100%;margin-bottom: 0;padding: 0.3em;box-sizing: border-box;text-align: center;}#sk-container-id-4 label.sk-toggleable__label-arrow:before {content: \"▸\";float: left;margin-right: 0.25em;color: #696969;}#sk-container-id-4 label.sk-toggleable__label-arrow:hover:before {color: black;}#sk-container-id-4 div.sk-estimator:hover label.sk-toggleable__label-arrow:before {color: black;}#sk-container-id-4 div.sk-toggleable__content {max-height: 0;max-width: 0;overflow: hidden;text-align: left;background-color: #f0f8ff;}#sk-container-id-4 div.sk-toggleable__content pre {margin: 0.2em;color: black;border-radius: 0.25em;background-color: #f0f8ff;}#sk-container-id-4 input.sk-toggleable__control:checked~div.sk-toggleable__content {max-height: 200px;max-width: 100%;overflow: auto;}#sk-container-id-4 input.sk-toggleable__control:checked~label.sk-toggleable__label-arrow:before {content: \"▾\";}#sk-container-id-4 div.sk-estimator input.sk-toggleable__control:checked~label.sk-toggleable__label {background-color: #d4ebff;}#sk-container-id-4 div.sk-label input.sk-toggleable__control:checked~label.sk-toggleable__label {background-color: #d4ebff;}#sk-container-id-4 input.sk-hidden--visually {border: 0;clip: rect(1px 1px 1px 1px);clip: rect(1px, 1px, 1px, 1px);height: 1px;margin: -1px;overflow: hidden;padding: 0;position: absolute;width: 1px;}#sk-container-id-4 div.sk-estimator {font-family: monospace;background-color: #f0f8ff;border: 1px dotted black;border-radius: 0.25em;box-sizing: border-box;margin-bottom: 0.5em;}#sk-container-id-4 div.sk-estimator:hover {background-color: #d4ebff;}#sk-container-id-4 div.sk-parallel-item::after {content: \"\";width: 100%;border-bottom: 1px solid gray;flex-grow: 1;}#sk-container-id-4 div.sk-label:hover label.sk-toggleable__label {background-color: #d4ebff;}#sk-container-id-4 div.sk-serial::before {content: \"\";position: absolute;border-left: 1px solid gray;box-sizing: border-box;top: 0;bottom: 0;left: 50%;z-index: 0;}#sk-container-id-4 div.sk-serial {display: flex;flex-direction: column;align-items: center;background-color: white;padding-right: 0.2em;padding-left: 0.2em;position: relative;}#sk-container-id-4 div.sk-item {position: relative;z-index: 1;}#sk-container-id-4 div.sk-parallel {display: flex;align-items: stretch;justify-content: center;background-color: white;position: relative;}#sk-container-id-4 div.sk-item::before, #sk-container-id-4 div.sk-parallel-item::before {content: \"\";position: absolute;border-left: 1px solid gray;box-sizing: border-box;top: 0;bottom: 0;left: 50%;z-index: -1;}#sk-container-id-4 div.sk-parallel-item {display: flex;flex-direction: column;z-index: 1;position: relative;background-color: white;}#sk-container-id-4 div.sk-parallel-item:first-child::after {align-self: flex-end;width: 50%;}#sk-container-id-4 div.sk-parallel-item:last-child::after {align-self: flex-start;width: 50%;}#sk-container-id-4 div.sk-parallel-item:only-child::after {width: 0;}#sk-container-id-4 div.sk-dashed-wrapped {border: 1px dashed gray;margin: 0 0.4em 0.5em 0.4em;box-sizing: border-box;padding-bottom: 0.4em;background-color: white;}#sk-container-id-4 div.sk-label label {font-family: monospace;font-weight: bold;display: inline-block;line-height: 1.2em;}#sk-container-id-4 div.sk-label-container {text-align: center;}#sk-container-id-4 div.sk-container {/* jupyter's `normalize.less` sets `[hidden] { display: none; }` but bootstrap.min.css set `[hidden] { display: none !important; }` so we also need the `!important` here to be able to override the default hidden behavior on the sphinx rendered scikit-learn.org. See: https://github.com/scikit-learn/scikit-learn/issues/21755 */display: inline-block !important;position: relative;}#sk-container-id-4 div.sk-text-repr-fallback {display: none;}</style><div id=\"sk-container-id-4\" class=\"sk-top-container\"><div class=\"sk-text-repr-fallback\"><pre>Ridge(alpha=0.4)</pre><b>In a Jupyter environment, please rerun this cell to show the HTML representation or trust the notebook. <br />On GitHub, the HTML representation is unable to render, please try loading this page with nbviewer.org.</b></div><div class=\"sk-container\" hidden><div class=\"sk-item\"><div class=\"sk-estimator sk-toggleable\"><input class=\"sk-toggleable__control sk-hidden--visually\" id=\"sk-estimator-id-4\" type=\"checkbox\" checked><label for=\"sk-estimator-id-4\" class=\"sk-toggleable__label sk-toggleable__label-arrow\">Ridge</label><div class=\"sk-toggleable__content\"><pre>Ridge(alpha=0.4)</pre></div></div></div></div></div>"
            ]
          },
          "metadata": {},
          "execution_count": 48
        }
      ]
    },
    {
      "cell_type": "code",
      "source": [
        "ridge_pred_y = ridge_reg.predict(test_x)"
      ],
      "metadata": {
        "id": "EhBcf3onzfyi"
      },
      "execution_count": null,
      "outputs": []
    },
    {
      "cell_type": "code",
      "source": [
        "# 평균 오차 제곱의 합(MSE)\n",
        "print(mean_squared_error(test_y, ridge_pred_y))"
      ],
      "metadata": {
        "colab": {
          "base_uri": "https://localhost:8080/"
        },
        "id": "EG8Rb8gIzoN5",
        "outputId": "cc68a10e-2cc9-4285-eeb0-5105942ca884"
      },
      "execution_count": null,
      "outputs": [
        {
          "output_type": "stream",
          "name": "stdout",
          "text": [
            "3295.714938563238\n"
          ]
        }
      ]
    },
    {
      "cell_type": "markdown",
      "source": [
        "\n",
        "\n",
        "---\n",
        "\n",
        "\n",
        "\n",
        "---\n",
        "\n"
      ],
      "metadata": {
        "id": "CyCPqVD0Sb0A"
      }
    },
    {
      "cell_type": "markdown",
      "source": [
        "# non-linear model"
      ],
      "metadata": {
        "id": "hcdgwl4DSlBh"
      }
    },
    {
      "cell_type": "markdown",
      "source": [
        "## 1. 다항 회귀 모델\n",
        "\n",
        "독립 변수들과 종속 변수가 2차 함수 이상의 관계를 가지는 것으로 곡선이나 더 복잡한모양을 표현하는 것이 가능한 모델"
      ],
      "metadata": {
        "id": "V7HWiAMKThF2"
      }
    },
    {
      "cell_type": "code",
      "source": [
        "from sklearn.preprocessing import PolynomialFeatures"
      ],
      "metadata": {
        "id": "P6Zq86Bdz4vu"
      },
      "execution_count": null,
      "outputs": []
    },
    {
      "cell_type": "code",
      "source": [
        "# 입력 변수의 다항식 생성\n",
        "poly = PolynomialFeatures(degree=1,include_bias=False)\n",
        "poly_train_x = poly.fit_transform(train_x)\n",
        "poly_test_x = poly.transform(test_x)"
      ],
      "metadata": {
        "id": "aQVMelmTTHk5"
      },
      "execution_count": null,
      "outputs": []
    },
    {
      "cell_type": "code",
      "source": [
        "print(poly_train_x.shape)\n",
        "print(poly_test_x.shape)"
      ],
      "metadata": {
        "colab": {
          "base_uri": "https://localhost:8080/"
        },
        "id": "H0HbT1L9Ytrw",
        "outputId": "5b983ad9-38dc-42a9-fd53-38a113a0bc04"
      },
      "execution_count": null,
      "outputs": [
        {
          "output_type": "stream",
          "name": "stdout",
          "text": [
            "(353, 10)\n",
            "(89, 10)\n"
          ]
        }
      ]
    },
    {
      "cell_type": "code",
      "source": [
        "poly_reg = linear_model.LinearRegression()\n",
        "poly_reg.fit(poly_train_x,train_y)"
      ],
      "metadata": {
        "colab": {
          "base_uri": "https://localhost:8080/",
          "height": 74
        },
        "id": "LIQCN42gVxYK",
        "outputId": "06261484-2b68-48d7-9186-6a3c79d528e4"
      },
      "execution_count": null,
      "outputs": [
        {
          "output_type": "execute_result",
          "data": {
            "text/plain": [
              "LinearRegression()"
            ],
            "text/html": [
              "<style>#sk-container-id-9 {color: black;background-color: white;}#sk-container-id-9 pre{padding: 0;}#sk-container-id-9 div.sk-toggleable {background-color: white;}#sk-container-id-9 label.sk-toggleable__label {cursor: pointer;display: block;width: 100%;margin-bottom: 0;padding: 0.3em;box-sizing: border-box;text-align: center;}#sk-container-id-9 label.sk-toggleable__label-arrow:before {content: \"▸\";float: left;margin-right: 0.25em;color: #696969;}#sk-container-id-9 label.sk-toggleable__label-arrow:hover:before {color: black;}#sk-container-id-9 div.sk-estimator:hover label.sk-toggleable__label-arrow:before {color: black;}#sk-container-id-9 div.sk-toggleable__content {max-height: 0;max-width: 0;overflow: hidden;text-align: left;background-color: #f0f8ff;}#sk-container-id-9 div.sk-toggleable__content pre {margin: 0.2em;color: black;border-radius: 0.25em;background-color: #f0f8ff;}#sk-container-id-9 input.sk-toggleable__control:checked~div.sk-toggleable__content {max-height: 200px;max-width: 100%;overflow: auto;}#sk-container-id-9 input.sk-toggleable__control:checked~label.sk-toggleable__label-arrow:before {content: \"▾\";}#sk-container-id-9 div.sk-estimator input.sk-toggleable__control:checked~label.sk-toggleable__label {background-color: #d4ebff;}#sk-container-id-9 div.sk-label input.sk-toggleable__control:checked~label.sk-toggleable__label {background-color: #d4ebff;}#sk-container-id-9 input.sk-hidden--visually {border: 0;clip: rect(1px 1px 1px 1px);clip: rect(1px, 1px, 1px, 1px);height: 1px;margin: -1px;overflow: hidden;padding: 0;position: absolute;width: 1px;}#sk-container-id-9 div.sk-estimator {font-family: monospace;background-color: #f0f8ff;border: 1px dotted black;border-radius: 0.25em;box-sizing: border-box;margin-bottom: 0.5em;}#sk-container-id-9 div.sk-estimator:hover {background-color: #d4ebff;}#sk-container-id-9 div.sk-parallel-item::after {content: \"\";width: 100%;border-bottom: 1px solid gray;flex-grow: 1;}#sk-container-id-9 div.sk-label:hover label.sk-toggleable__label {background-color: #d4ebff;}#sk-container-id-9 div.sk-serial::before {content: \"\";position: absolute;border-left: 1px solid gray;box-sizing: border-box;top: 0;bottom: 0;left: 50%;z-index: 0;}#sk-container-id-9 div.sk-serial {display: flex;flex-direction: column;align-items: center;background-color: white;padding-right: 0.2em;padding-left: 0.2em;position: relative;}#sk-container-id-9 div.sk-item {position: relative;z-index: 1;}#sk-container-id-9 div.sk-parallel {display: flex;align-items: stretch;justify-content: center;background-color: white;position: relative;}#sk-container-id-9 div.sk-item::before, #sk-container-id-9 div.sk-parallel-item::before {content: \"\";position: absolute;border-left: 1px solid gray;box-sizing: border-box;top: 0;bottom: 0;left: 50%;z-index: -1;}#sk-container-id-9 div.sk-parallel-item {display: flex;flex-direction: column;z-index: 1;position: relative;background-color: white;}#sk-container-id-9 div.sk-parallel-item:first-child::after {align-self: flex-end;width: 50%;}#sk-container-id-9 div.sk-parallel-item:last-child::after {align-self: flex-start;width: 50%;}#sk-container-id-9 div.sk-parallel-item:only-child::after {width: 0;}#sk-container-id-9 div.sk-dashed-wrapped {border: 1px dashed gray;margin: 0 0.4em 0.5em 0.4em;box-sizing: border-box;padding-bottom: 0.4em;background-color: white;}#sk-container-id-9 div.sk-label label {font-family: monospace;font-weight: bold;display: inline-block;line-height: 1.2em;}#sk-container-id-9 div.sk-label-container {text-align: center;}#sk-container-id-9 div.sk-container {/* jupyter's `normalize.less` sets `[hidden] { display: none; }` but bootstrap.min.css set `[hidden] { display: none !important; }` so we also need the `!important` here to be able to override the default hidden behavior on the sphinx rendered scikit-learn.org. See: https://github.com/scikit-learn/scikit-learn/issues/21755 */display: inline-block !important;position: relative;}#sk-container-id-9 div.sk-text-repr-fallback {display: none;}</style><div id=\"sk-container-id-9\" class=\"sk-top-container\"><div class=\"sk-text-repr-fallback\"><pre>LinearRegression()</pre><b>In a Jupyter environment, please rerun this cell to show the HTML representation or trust the notebook. <br />On GitHub, the HTML representation is unable to render, please try loading this page with nbviewer.org.</b></div><div class=\"sk-container\" hidden><div class=\"sk-item\"><div class=\"sk-estimator sk-toggleable\"><input class=\"sk-toggleable__control sk-hidden--visually\" id=\"sk-estimator-id-9\" type=\"checkbox\" checked><label for=\"sk-estimator-id-9\" class=\"sk-toggleable__label sk-toggleable__label-arrow\">LinearRegression</label><div class=\"sk-toggleable__content\"><pre>LinearRegression()</pre></div></div></div></div></div>"
            ]
          },
          "metadata": {},
          "execution_count": 74
        }
      ]
    },
    {
      "cell_type": "code",
      "source": [
        "poly_pred_y = reg.predict(poly_test_x)"
      ],
      "metadata": {
        "id": "lokMEjNFTUYv"
      },
      "execution_count": null,
      "outputs": []
    },
    {
      "cell_type": "code",
      "source": [
        "# 평균 오차 제곱의 합(MSE)\n",
        "print(mean_squared_error(test_y, poly_pred_y))"
      ],
      "metadata": {
        "colab": {
          "base_uri": "https://localhost:8080/"
        },
        "id": "NH2-Is05TunK",
        "outputId": "0ca44c86-8359-49f1-ac36-863264491d0a"
      },
      "execution_count": null,
      "outputs": [
        {
          "output_type": "stream",
          "name": "stdout",
          "text": [
            "3424.259334298692\n"
          ]
        }
      ]
    },
    {
      "cell_type": "markdown",
      "source": [
        "## 2. 서포트 벡터 머신(SVM)\n",
        "\n",
        "기계 학습 분야 중 하나로 패턴인식, 자료 분석을 윟나 지도 학습 모델이고, 주로 분류와 회귀 분석을 위해 사용함"
      ],
      "metadata": {
        "id": "ZcJzvCggZZFa"
      }
    },
    {
      "cell_type": "code",
      "source": [
        "from sklearn.svm import SVR"
      ],
      "metadata": {
        "id": "PAoBVqK7T9G9"
      },
      "execution_count": null,
      "outputs": []
    },
    {
      "cell_type": "code",
      "source": [
        "svr_reg = SVR(kernel='sigmoid',C=4, epsilon=0.6)\n",
        "# kernel: 사용할 커널 함수 선택\n",
        "# C: 규제 강도를 조절하는 parameter (C값이 작을수록 규제가 강해지고, 모델의 복잡도가 감소함)\n",
        "# epsilon: 허용 오차 범위를 조절하는 parameter"
      ],
      "metadata": {
        "id": "U2fuXx8DZtIH"
      },
      "execution_count": null,
      "outputs": []
    },
    {
      "cell_type": "code",
      "source": [
        "svr_reg.fit(train_x,train_y)"
      ],
      "metadata": {
        "colab": {
          "base_uri": "https://localhost:8080/",
          "height": 74
        },
        "id": "116TxY4kZ2tQ",
        "outputId": "f4fb04bf-6cd5-4277-816b-afafa9957894"
      },
      "execution_count": null,
      "outputs": [
        {
          "output_type": "execute_result",
          "data": {
            "text/plain": [
              "SVR(C=4, epsilon=0.6, kernel='sigmoid')"
            ],
            "text/html": [
              "<style>#sk-container-id-39 {color: black;background-color: white;}#sk-container-id-39 pre{padding: 0;}#sk-container-id-39 div.sk-toggleable {background-color: white;}#sk-container-id-39 label.sk-toggleable__label {cursor: pointer;display: block;width: 100%;margin-bottom: 0;padding: 0.3em;box-sizing: border-box;text-align: center;}#sk-container-id-39 label.sk-toggleable__label-arrow:before {content: \"▸\";float: left;margin-right: 0.25em;color: #696969;}#sk-container-id-39 label.sk-toggleable__label-arrow:hover:before {color: black;}#sk-container-id-39 div.sk-estimator:hover label.sk-toggleable__label-arrow:before {color: black;}#sk-container-id-39 div.sk-toggleable__content {max-height: 0;max-width: 0;overflow: hidden;text-align: left;background-color: #f0f8ff;}#sk-container-id-39 div.sk-toggleable__content pre {margin: 0.2em;color: black;border-radius: 0.25em;background-color: #f0f8ff;}#sk-container-id-39 input.sk-toggleable__control:checked~div.sk-toggleable__content {max-height: 200px;max-width: 100%;overflow: auto;}#sk-container-id-39 input.sk-toggleable__control:checked~label.sk-toggleable__label-arrow:before {content: \"▾\";}#sk-container-id-39 div.sk-estimator input.sk-toggleable__control:checked~label.sk-toggleable__label {background-color: #d4ebff;}#sk-container-id-39 div.sk-label input.sk-toggleable__control:checked~label.sk-toggleable__label {background-color: #d4ebff;}#sk-container-id-39 input.sk-hidden--visually {border: 0;clip: rect(1px 1px 1px 1px);clip: rect(1px, 1px, 1px, 1px);height: 1px;margin: -1px;overflow: hidden;padding: 0;position: absolute;width: 1px;}#sk-container-id-39 div.sk-estimator {font-family: monospace;background-color: #f0f8ff;border: 1px dotted black;border-radius: 0.25em;box-sizing: border-box;margin-bottom: 0.5em;}#sk-container-id-39 div.sk-estimator:hover {background-color: #d4ebff;}#sk-container-id-39 div.sk-parallel-item::after {content: \"\";width: 100%;border-bottom: 1px solid gray;flex-grow: 1;}#sk-container-id-39 div.sk-label:hover label.sk-toggleable__label {background-color: #d4ebff;}#sk-container-id-39 div.sk-serial::before {content: \"\";position: absolute;border-left: 1px solid gray;box-sizing: border-box;top: 0;bottom: 0;left: 50%;z-index: 0;}#sk-container-id-39 div.sk-serial {display: flex;flex-direction: column;align-items: center;background-color: white;padding-right: 0.2em;padding-left: 0.2em;position: relative;}#sk-container-id-39 div.sk-item {position: relative;z-index: 1;}#sk-container-id-39 div.sk-parallel {display: flex;align-items: stretch;justify-content: center;background-color: white;position: relative;}#sk-container-id-39 div.sk-item::before, #sk-container-id-39 div.sk-parallel-item::before {content: \"\";position: absolute;border-left: 1px solid gray;box-sizing: border-box;top: 0;bottom: 0;left: 50%;z-index: -1;}#sk-container-id-39 div.sk-parallel-item {display: flex;flex-direction: column;z-index: 1;position: relative;background-color: white;}#sk-container-id-39 div.sk-parallel-item:first-child::after {align-self: flex-end;width: 50%;}#sk-container-id-39 div.sk-parallel-item:last-child::after {align-self: flex-start;width: 50%;}#sk-container-id-39 div.sk-parallel-item:only-child::after {width: 0;}#sk-container-id-39 div.sk-dashed-wrapped {border: 1px dashed gray;margin: 0 0.4em 0.5em 0.4em;box-sizing: border-box;padding-bottom: 0.4em;background-color: white;}#sk-container-id-39 div.sk-label label {font-family: monospace;font-weight: bold;display: inline-block;line-height: 1.2em;}#sk-container-id-39 div.sk-label-container {text-align: center;}#sk-container-id-39 div.sk-container {/* jupyter's `normalize.less` sets `[hidden] { display: none; }` but bootstrap.min.css set `[hidden] { display: none !important; }` so we also need the `!important` here to be able to override the default hidden behavior on the sphinx rendered scikit-learn.org. See: https://github.com/scikit-learn/scikit-learn/issues/21755 */display: inline-block !important;position: relative;}#sk-container-id-39 div.sk-text-repr-fallback {display: none;}</style><div id=\"sk-container-id-39\" class=\"sk-top-container\"><div class=\"sk-text-repr-fallback\"><pre>SVR(C=4, epsilon=0.6, kernel=&#x27;sigmoid&#x27;)</pre><b>In a Jupyter environment, please rerun this cell to show the HTML representation or trust the notebook. <br />On GitHub, the HTML representation is unable to render, please try loading this page with nbviewer.org.</b></div><div class=\"sk-container\" hidden><div class=\"sk-item\"><div class=\"sk-estimator sk-toggleable\"><input class=\"sk-toggleable__control sk-hidden--visually\" id=\"sk-estimator-id-39\" type=\"checkbox\" checked><label for=\"sk-estimator-id-39\" class=\"sk-toggleable__label sk-toggleable__label-arrow\">SVR</label><div class=\"sk-toggleable__content\"><pre>SVR(C=4, epsilon=0.6, kernel=&#x27;sigmoid&#x27;)</pre></div></div></div></div></div>"
            ]
          },
          "metadata": {},
          "execution_count": 196
        }
      ]
    },
    {
      "cell_type": "code",
      "source": [
        "svr_pred_y = svr_reg.predict(test_x)"
      ],
      "metadata": {
        "id": "oYPV7AfLaP-H"
      },
      "execution_count": null,
      "outputs": []
    },
    {
      "cell_type": "code",
      "source": [
        "# 평균 오차 제곱의 합(MSE)\n",
        "print(mean_squared_error(test_y, svr_pred_y))"
      ],
      "metadata": {
        "colab": {
          "base_uri": "https://localhost:8080/"
        },
        "id": "g8dnap_ZaVwV",
        "outputId": "edb07983-b7b9-4435-c9d3-b89a9eb43b26"
      },
      "execution_count": null,
      "outputs": [
        {
          "output_type": "stream",
          "name": "stdout",
          "text": [
            "3270.58437031849\n"
          ]
        }
      ]
    },
    {
      "cell_type": "markdown",
      "source": [
        "## 3. 랜덤 포레스트\n",
        "\n",
        "기계 학습에서 분류, 회귀분석 등에 사용되는 앙상블 학습 방법의 일종\n",
        "\n",
        "앙상블 방법이란 강력한 하나의 모델을 사요하는 대신 보다 약한 여러 개의 모델을 조합하여 더 정확한 예측을 해주는 방법\n"
      ],
      "metadata": {
        "id": "JONqk0JEdNi5"
      }
    },
    {
      "cell_type": "code",
      "source": [
        "from sklearn.ensemble import RandomForestRegressor"
      ],
      "metadata": {
        "id": "ULGofEcCaaV5"
      },
      "execution_count": null,
      "outputs": []
    },
    {
      "cell_type": "code",
      "source": [
        "rf_reg = RandomForestRegressor(n_estimators=70,max_depth = 4, max_features = 4,random_state=42)\n",
        "# n_estimators: 생성할 트리의 개수를 지정하는 parameter, 값이 클수록 overfitting 위험\n",
        "# random_state: 랜덤 시드값으로, 동일한 결과를 얻기 위해 설정하는 값"
      ],
      "metadata": {
        "id": "4Ev-OC_2dXPw"
      },
      "execution_count": null,
      "outputs": []
    },
    {
      "cell_type": "code",
      "source": [
        "rf_reg.fit(train_x,train_y)"
      ],
      "metadata": {
        "colab": {
          "base_uri": "https://localhost:8080/",
          "height": 92
        },
        "id": "sE_NBND8dc5g",
        "outputId": "43f2433b-bac6-4d2a-b02d-4eb85d5df161"
      },
      "execution_count": null,
      "outputs": [
        {
          "output_type": "execute_result",
          "data": {
            "text/plain": [
              "RandomForestRegressor(max_depth=4, max_features=4, n_estimators=70,\n",
              "                      random_state=42)"
            ],
            "text/html": [
              "<style>#sk-container-id-56 {color: black;background-color: white;}#sk-container-id-56 pre{padding: 0;}#sk-container-id-56 div.sk-toggleable {background-color: white;}#sk-container-id-56 label.sk-toggleable__label {cursor: pointer;display: block;width: 100%;margin-bottom: 0;padding: 0.3em;box-sizing: border-box;text-align: center;}#sk-container-id-56 label.sk-toggleable__label-arrow:before {content: \"▸\";float: left;margin-right: 0.25em;color: #696969;}#sk-container-id-56 label.sk-toggleable__label-arrow:hover:before {color: black;}#sk-container-id-56 div.sk-estimator:hover label.sk-toggleable__label-arrow:before {color: black;}#sk-container-id-56 div.sk-toggleable__content {max-height: 0;max-width: 0;overflow: hidden;text-align: left;background-color: #f0f8ff;}#sk-container-id-56 div.sk-toggleable__content pre {margin: 0.2em;color: black;border-radius: 0.25em;background-color: #f0f8ff;}#sk-container-id-56 input.sk-toggleable__control:checked~div.sk-toggleable__content {max-height: 200px;max-width: 100%;overflow: auto;}#sk-container-id-56 input.sk-toggleable__control:checked~label.sk-toggleable__label-arrow:before {content: \"▾\";}#sk-container-id-56 div.sk-estimator input.sk-toggleable__control:checked~label.sk-toggleable__label {background-color: #d4ebff;}#sk-container-id-56 div.sk-label input.sk-toggleable__control:checked~label.sk-toggleable__label {background-color: #d4ebff;}#sk-container-id-56 input.sk-hidden--visually {border: 0;clip: rect(1px 1px 1px 1px);clip: rect(1px, 1px, 1px, 1px);height: 1px;margin: -1px;overflow: hidden;padding: 0;position: absolute;width: 1px;}#sk-container-id-56 div.sk-estimator {font-family: monospace;background-color: #f0f8ff;border: 1px dotted black;border-radius: 0.25em;box-sizing: border-box;margin-bottom: 0.5em;}#sk-container-id-56 div.sk-estimator:hover {background-color: #d4ebff;}#sk-container-id-56 div.sk-parallel-item::after {content: \"\";width: 100%;border-bottom: 1px solid gray;flex-grow: 1;}#sk-container-id-56 div.sk-label:hover label.sk-toggleable__label {background-color: #d4ebff;}#sk-container-id-56 div.sk-serial::before {content: \"\";position: absolute;border-left: 1px solid gray;box-sizing: border-box;top: 0;bottom: 0;left: 50%;z-index: 0;}#sk-container-id-56 div.sk-serial {display: flex;flex-direction: column;align-items: center;background-color: white;padding-right: 0.2em;padding-left: 0.2em;position: relative;}#sk-container-id-56 div.sk-item {position: relative;z-index: 1;}#sk-container-id-56 div.sk-parallel {display: flex;align-items: stretch;justify-content: center;background-color: white;position: relative;}#sk-container-id-56 div.sk-item::before, #sk-container-id-56 div.sk-parallel-item::before {content: \"\";position: absolute;border-left: 1px solid gray;box-sizing: border-box;top: 0;bottom: 0;left: 50%;z-index: -1;}#sk-container-id-56 div.sk-parallel-item {display: flex;flex-direction: column;z-index: 1;position: relative;background-color: white;}#sk-container-id-56 div.sk-parallel-item:first-child::after {align-self: flex-end;width: 50%;}#sk-container-id-56 div.sk-parallel-item:last-child::after {align-self: flex-start;width: 50%;}#sk-container-id-56 div.sk-parallel-item:only-child::after {width: 0;}#sk-container-id-56 div.sk-dashed-wrapped {border: 1px dashed gray;margin: 0 0.4em 0.5em 0.4em;box-sizing: border-box;padding-bottom: 0.4em;background-color: white;}#sk-container-id-56 div.sk-label label {font-family: monospace;font-weight: bold;display: inline-block;line-height: 1.2em;}#sk-container-id-56 div.sk-label-container {text-align: center;}#sk-container-id-56 div.sk-container {/* jupyter's `normalize.less` sets `[hidden] { display: none; }` but bootstrap.min.css set `[hidden] { display: none !important; }` so we also need the `!important` here to be able to override the default hidden behavior on the sphinx rendered scikit-learn.org. See: https://github.com/scikit-learn/scikit-learn/issues/21755 */display: inline-block !important;position: relative;}#sk-container-id-56 div.sk-text-repr-fallback {display: none;}</style><div id=\"sk-container-id-56\" class=\"sk-top-container\"><div class=\"sk-text-repr-fallback\"><pre>RandomForestRegressor(max_depth=4, max_features=4, n_estimators=70,\n",
              "                      random_state=42)</pre><b>In a Jupyter environment, please rerun this cell to show the HTML representation or trust the notebook. <br />On GitHub, the HTML representation is unable to render, please try loading this page with nbviewer.org.</b></div><div class=\"sk-container\" hidden><div class=\"sk-item\"><div class=\"sk-estimator sk-toggleable\"><input class=\"sk-toggleable__control sk-hidden--visually\" id=\"sk-estimator-id-56\" type=\"checkbox\" checked><label for=\"sk-estimator-id-56\" class=\"sk-toggleable__label sk-toggleable__label-arrow\">RandomForestRegressor</label><div class=\"sk-toggleable__content\"><pre>RandomForestRegressor(max_depth=4, max_features=4, n_estimators=70,\n",
              "                      random_state=42)</pre></div></div></div></div></div>"
            ]
          },
          "metadata": {},
          "execution_count": 268
        }
      ]
    },
    {
      "cell_type": "code",
      "source": [
        "rf_pred_y = rf_reg.predict(test_x)"
      ],
      "metadata": {
        "id": "qDddl1BidhC8"
      },
      "execution_count": null,
      "outputs": []
    },
    {
      "cell_type": "code",
      "source": [
        "print(mean_squared_error(test_y, rf_pred_y))"
      ],
      "metadata": {
        "colab": {
          "base_uri": "https://localhost:8080/"
        },
        "id": "abBpUv-adk2l",
        "outputId": "987ba032-d5e4-4775-88cb-7fa2a84b05e5"
      },
      "execution_count": null,
      "outputs": [
        {
          "output_type": "stream",
          "name": "stdout",
          "text": [
            "3474.0651346442637\n"
          ]
        }
      ]
    },
    {
      "cell_type": "markdown",
      "source": [
        "## 4. XGBoost\n",
        "\n",
        "각 이터레이션에서 맞추지 못한 데이터에 가중치를 부여하여 모델을 학습시키는 부스팅 계열의 트리 모델"
      ],
      "metadata": {
        "id": "Z2__v41ugwpw"
      }
    },
    {
      "cell_type": "code",
      "source": [
        "# XGBoost 모델 학습시키기\n",
        "xgb_reg = XGBRegressor(objective='reg:squarederror', n_estimators=30, learning_rate=0.151, max_depth=2)\n",
        "xgb_reg.fit(train_x, train_y)\n",
        "\n",
        "# 테스트 데이터 예측하기\n",
        "xgb_pred_y = xgb_reg.predict(test_x)\n",
        "\n",
        "# 평균 오차 제곱의 합(MSE) 구하기\n",
        "mean_squared_error(test_y, xgb_pred_y)\n",
        "print(mean_squared_error(test_y, xgb_pred_y))"
      ],
      "metadata": {
        "colab": {
          "base_uri": "https://localhost:8080/"
        },
        "id": "DwBbKKX3h-VH",
        "outputId": "5b54a957-9407-426b-e437-c7118cf459d0"
      },
      "execution_count": null,
      "outputs": [
        {
          "output_type": "stream",
          "name": "stdout",
          "text": [
            "3476.733096885956\n"
          ]
        }
      ]
    },
    {
      "cell_type": "code",
      "source": [],
      "metadata": {
        "id": "xaR6-OSWjSbW"
      },
      "execution_count": null,
      "outputs": []
    }
  ]
}